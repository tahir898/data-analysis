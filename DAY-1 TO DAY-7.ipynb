{
 "cells": [
  {
   "cell_type": "markdown",
   "id": "7f82502e",
   "metadata": {},
   "source": [
    "# day 1 - this is the first class of python\n",
    "\n",
    "\n"
   ]
  },
  {
   "cell_type": "markdown",
   "id": "a301f4c2",
   "metadata": {},
   "source": [
    "we are going to write our first program"
   ]
  },
  {
   "cell_type": "code",
   "execution_count": 5,
   "id": "0fd82ef5",
   "metadata": {},
   "outputs": [
    {
     "name": "stdout",
     "output_type": "stream",
     "text": [
      "hello horld . this is an amezing python class\n"
     ]
    }
   ],
   "source": [
    "print(\"hello horld . this is an amezing python class\")"
   ]
  },
  {
   "cell_type": "code",
   "execution_count": 6,
   "id": "df9703a6",
   "metadata": {},
   "outputs": [
    {
     "name": "stdout",
     "output_type": "stream",
     "text": [
      "5\n"
     ]
    }
   ],
   "source": [
    "print(2+3)"
   ]
  },
  {
   "cell_type": "markdown",
   "id": "1d97ae13",
   "metadata": {},
   "source": [
    "# python comments"
   ]
  },
  {
   "cell_type": "code",
   "execution_count": 7,
   "id": "f71d12ed",
   "metadata": {},
   "outputs": [
    {
     "name": "stdout",
     "output_type": "stream",
     "text": [
      "hello world\n"
     ]
    }
   ],
   "source": [
    "# this is comment\n",
    "print(\"hello world\")"
   ]
  },
  {
   "cell_type": "markdown",
   "id": "29f2413a",
   "metadata": {},
   "source": [
    "# multiline comment"
   ]
  },
  {
   "cell_type": "code",
   "execution_count": 8,
   "id": "7491e37e",
   "metadata": {},
   "outputs": [
    {
     "name": "stdout",
     "output_type": "stream",
     "text": [
      "5\n"
     ]
    }
   ],
   "source": [
    "#this is comment 1\n",
    "#this is comment 2\n",
    "#this is comment 3\n",
    "\n",
    "print(2+3)"
   ]
  },
  {
   "cell_type": "code",
   "execution_count": 9,
   "id": "fdce46a2",
   "metadata": {},
   "outputs": [
    {
     "name": "stdout",
     "output_type": "stream",
     "text": [
      "11\n"
     ]
    }
   ],
   "source": [
    "\"\"\" this is our first class of python \"\"\"\n",
    "print(5+6)"
   ]
  },
  {
   "cell_type": "code",
   "execution_count": 1,
   "id": "7e5f3e23",
   "metadata": {},
   "outputs": [
    {
     "name": "stdout",
     "output_type": "stream",
     "text": [
      "hello tahir\n"
     ]
    }
   ],
   "source": [
    "print(\"hello tahir\")"
   ]
  },
  {
   "cell_type": "markdown",
   "id": "be82affa",
   "metadata": {},
   "source": [
    "# DAY-2\n"
   ]
  },
  {
   "cell_type": "markdown",
   "id": "6b799ed5",
   "metadata": {},
   "source": [
    "# VARIABLES AND OPERATORS"
   ]
  },
  {
   "cell_type": "code",
   "execution_count": 1,
   "id": "44afddec",
   "metadata": {},
   "outputs": [
    {
     "name": "stdout",
     "output_type": "stream",
     "text": [
      "1\n"
     ]
    }
   ],
   "source": [
    "a=1\n",
    "print(a)"
   ]
  },
  {
   "cell_type": "code",
   "execution_count": 2,
   "id": "c0434440",
   "metadata": {},
   "outputs": [
    {
     "name": "stdout",
     "output_type": "stream",
     "text": [
      "2 2.3\n"
     ]
    }
   ],
   "source": [
    "b=2\n",
    "c=2.3\n",
    "print(b,c)\n"
   ]
  },
  {
   "cell_type": "code",
   "execution_count": 3,
   "id": "9d75332d",
   "metadata": {},
   "outputs": [
    {
     "name": "stdout",
     "output_type": "stream",
     "text": [
      "apple\n"
     ]
    }
   ],
   "source": [
    "x=\"apple\"\n",
    "print(x)"
   ]
  },
  {
   "cell_type": "code",
   "execution_count": 4,
   "id": "f0e77f8f",
   "metadata": {},
   "outputs": [
    {
     "name": "stdout",
     "output_type": "stream",
     "text": [
      "23\n"
     ]
    }
   ],
   "source": [
    "student=23\n",
    "print(student)"
   ]
  },
  {
   "cell_type": "code",
   "execution_count": 5,
   "id": "0df76e0e",
   "metadata": {},
   "outputs": [
    {
     "name": "stdout",
     "output_type": "stream",
     "text": [
      "5\n"
     ]
    }
   ],
   "source": [
    "_a=5\n",
    "print(_a)"
   ]
  },
  {
   "cell_type": "markdown",
   "id": "869c2061",
   "metadata": {},
   "source": [
    "# many values to multiple variables"
   ]
  },
  {
   "cell_type": "code",
   "execution_count": 7,
   "id": "dc9b8305",
   "metadata": {},
   "outputs": [
    {
     "name": "stdout",
     "output_type": "stream",
     "text": [
      "orange banana cherry\n"
     ]
    }
   ],
   "source": [
    "x,y,z=\"orange\",\"banana\",\"cherry\"\n",
    "print(x,y,z)"
   ]
  },
  {
   "cell_type": "code",
   "execution_count": 9,
   "id": "73e677d9",
   "metadata": {},
   "outputs": [
    {
     "name": "stdout",
     "output_type": "stream",
     "text": [
      "orange\n",
      "orange\n",
      "orange\n"
     ]
    }
   ],
   "source": [
    "x=y=z=\"orange\"\n",
    "print(x)\n",
    "print(y)\n",
    "print(z)"
   ]
  },
  {
   "cell_type": "markdown",
   "id": "d76ff4c7",
   "metadata": {},
   "source": [
    "# python output variables"
   ]
  },
  {
   "cell_type": "code",
   "execution_count": 12,
   "id": "dfe6d6e3",
   "metadata": {},
   "outputs": [
    {
     "name": "stdout",
     "output_type": "stream",
     "text": [
      "python is amezing\n",
      "\n",
      "python\n",
      "is\n",
      "amezing\n"
     ]
    }
   ],
   "source": [
    "x=\"python\"\n",
    "y=\"is\"\n",
    "z=\"amezing\"\n",
    "print(x,y,z)\n",
    "\n",
    "print()\n",
    "\n",
    "print(x)\n",
    "print(y)\n",
    "print(z)"
   ]
  },
  {
   "cell_type": "markdown",
   "id": "25c8acbf",
   "metadata": {},
   "source": [
    "# data types"
   ]
  },
  {
   "cell_type": "markdown",
   "id": "9d5d3ff9",
   "metadata": {},
   "source": [
    "# integer data types"
   ]
  },
  {
   "cell_type": "code",
   "execution_count": 13,
   "id": "1dfbff09",
   "metadata": {},
   "outputs": [
    {
     "name": "stdout",
     "output_type": "stream",
     "text": [
      "2\n",
      "<class 'int'>\n"
     ]
    }
   ],
   "source": [
    "x=2\n",
    "print(x)\n",
    "print(type(x))"
   ]
  },
  {
   "cell_type": "markdown",
   "id": "05db62d8",
   "metadata": {},
   "source": [
    "# floating point data types"
   ]
  },
  {
   "cell_type": "code",
   "execution_count": 14,
   "id": "3c8b87d8",
   "metadata": {},
   "outputs": [
    {
     "name": "stdout",
     "output_type": "stream",
     "text": [
      "1.5\n",
      "<class 'float'>\n"
     ]
    }
   ],
   "source": [
    "y=1.5\n",
    "print(y)\n",
    "print(type(y))"
   ]
  },
  {
   "cell_type": "markdown",
   "id": "55ed1f05",
   "metadata": {},
   "source": [
    "# complex data types"
   ]
  },
  {
   "cell_type": "code",
   "execution_count": 15,
   "id": "cbfceb61",
   "metadata": {},
   "outputs": [
    {
     "name": "stdout",
     "output_type": "stream",
     "text": [
      "(2+5j)\n",
      "<class 'complex'>\n"
     ]
    }
   ],
   "source": [
    "z=2+5j\n",
    "print(z)\n",
    "print(type(z))"
   ]
  },
  {
   "cell_type": "markdown",
   "id": "e9396e4d",
   "metadata": {},
   "source": [
    "# string data type"
   ]
  },
  {
   "cell_type": "raw",
   "id": "7d241a78",
   "metadata": {},
   "source": []
  },
  {
   "cell_type": "code",
   "execution_count": 17,
   "id": "43f05bda",
   "metadata": {},
   "outputs": [
    {
     "name": "stdout",
     "output_type": "stream",
     "text": [
      "this is the day 2 of python class\n",
      "<class 'str'>\n"
     ]
    }
   ],
   "source": [
    "a=\"this is the day 2 of python class\"\n",
    "print(a)\n",
    "print(type(a))"
   ]
  },
  {
   "cell_type": "markdown",
   "id": "a89a7ab9",
   "metadata": {},
   "source": [
    "# list data type"
   ]
  },
  {
   "cell_type": "code",
   "execution_count": 18,
   "id": "353a374c",
   "metadata": {},
   "outputs": [
    {
     "name": "stdout",
     "output_type": "stream",
     "text": [
      "[1, 2, 3, 4, 5, 6, 7, 8, 9, 10]\n",
      "<class 'list'>\n"
     ]
    }
   ],
   "source": [
    "b=[1,2,3,4,5,6,7,8,9,10]\n",
    "print(b)\n",
    "print(type(b))"
   ]
  },
  {
   "cell_type": "markdown",
   "id": "fcea3622",
   "metadata": {},
   "source": [
    "# tuple data types"
   ]
  },
  {
   "cell_type": "code",
   "execution_count": 19,
   "id": "9cd03993",
   "metadata": {},
   "outputs": [
    {
     "name": "stdout",
     "output_type": "stream",
     "text": [
      "(1, 2, 3, 4, 5, 6, 7, 8, 9, 10)\n",
      "<class 'tuple'>\n"
     ]
    }
   ],
   "source": [
    "c=(1,2,3,4,5,6,7,8,9,10)\n",
    "print(c)\n",
    "print(type(c))"
   ]
  },
  {
   "cell_type": "code",
   "execution_count": 20,
   "id": "20a8ee17",
   "metadata": {},
   "outputs": [
    {
     "name": "stdout",
     "output_type": "stream",
     "text": [
      "Variable   Type       Data/Info\n",
      "-------------------------------\n",
      "a          str        this is the day 2 of python class\n",
      "b          list       n=10\n",
      "c          tuple      n=10\n",
      "student    int        23\n",
      "x          int        2\n",
      "y          float      1.5\n",
      "z          complex    (2+5j)\n"
     ]
    }
   ],
   "source": [
    "%whos"
   ]
  },
  {
   "cell_type": "markdown",
   "id": "f1808c4f",
   "metadata": {},
   "source": [
    "# operators"
   ]
  },
  {
   "cell_type": "code",
   "execution_count": null,
   "id": "c64f7247",
   "metadata": {},
   "outputs": [],
   "source": [
    "# addition\n",
    "\n",
    "a=5\n",
    "b=3\n",
    "print(a+b)"
   ]
  },
  {
   "cell_type": "code",
   "execution_count": 22,
   "id": "0be81771",
   "metadata": {},
   "outputs": [
    {
     "name": "stdout",
     "output_type": "stream",
     "text": [
      "7.3\n"
     ]
    }
   ],
   "source": [
    "a=5\n",
    "b=2.3\n",
    "print(a+b)"
   ]
  },
  {
   "cell_type": "code",
   "execution_count": 23,
   "id": "3c7d92b4",
   "metadata": {},
   "outputs": [
    {
     "name": "stdout",
     "output_type": "stream",
     "text": [
      "(9+2j)\n"
     ]
    }
   ],
   "source": [
    "a=5+2j\n",
    "\n",
    "b=4\n",
    "print(a+b)"
   ]
  },
  {
   "cell_type": "code",
   "execution_count": 28,
   "id": "f2f191c3",
   "metadata": {},
   "outputs": [
    {
     "name": "stdout",
     "output_type": "stream",
     "text": [
      "hello students\n"
     ]
    }
   ],
   "source": [
    "a=\"hello\"\n",
    "b=\"students\"\n",
    "print(a+ \" \" +b)"
   ]
  },
  {
   "cell_type": "markdown",
   "id": "61d033a8",
   "metadata": {},
   "source": [
    "# subtraction"
   ]
  },
  {
   "cell_type": "code",
   "execution_count": 29,
   "id": "abdba8f7",
   "metadata": {},
   "outputs": [
    {
     "name": "stdout",
     "output_type": "stream",
     "text": [
      "9\n"
     ]
    }
   ],
   "source": [
    "a=15\n",
    "b=6\n",
    "print(a-b)"
   ]
  },
  {
   "cell_type": "code",
   "execution_count": 30,
   "id": "8dcd2b97",
   "metadata": {},
   "outputs": [
    {
     "name": "stdout",
     "output_type": "stream",
     "text": [
      "-1.1666699999999999\n"
     ]
    }
   ],
   "source": [
    "a=5.95698\n",
    "b=7.12365\n",
    "print(a-b)"
   ]
  },
  {
   "cell_type": "code",
   "execution_count": 31,
   "id": "56090439",
   "metadata": {},
   "outputs": [
    {
     "name": "stdout",
     "output_type": "stream",
     "text": [
      "(2+6j)\n"
     ]
    }
   ],
   "source": [
    "a=5+6j\n",
    "b=3\n",
    "print(a-b)"
   ]
  },
  {
   "cell_type": "markdown",
   "id": "2d5e99f9",
   "metadata": {},
   "source": [
    "# multiplication"
   ]
  },
  {
   "cell_type": "code",
   "execution_count": 32,
   "id": "b9c80521",
   "metadata": {},
   "outputs": [
    {
     "name": "stdout",
     "output_type": "stream",
     "text": [
      "2800\n"
     ]
    }
   ],
   "source": [
    "a=50\n",
    "b=56\n",
    "print(a*b)"
   ]
  },
  {
   "cell_type": "code",
   "execution_count": 33,
   "id": "46ace899",
   "metadata": {},
   "outputs": [
    {
     "name": "stdout",
     "output_type": "stream",
     "text": [
      "468.0403954\n"
     ]
    }
   ],
   "source": [
    "a=5.69\n",
    "b=82.25666\n",
    "print(a*b)"
   ]
  },
  {
   "cell_type": "markdown",
   "id": "4345d2ab",
   "metadata": {},
   "source": [
    "# division"
   ]
  },
  {
   "cell_type": "code",
   "execution_count": 34,
   "id": "7d3c126d",
   "metadata": {},
   "outputs": [
    {
     "name": "stdout",
     "output_type": "stream",
     "text": [
      "2.0\n"
     ]
    }
   ],
   "source": [
    "a=10\n",
    "b=5\n",
    "print(a/b)"
   ]
  },
  {
   "cell_type": "markdown",
   "id": "74203540",
   "metadata": {},
   "source": [
    "# modulus operator"
   ]
  },
  {
   "cell_type": "code",
   "execution_count": 35,
   "id": "5aa37b0f",
   "metadata": {},
   "outputs": [
    {
     "name": "stdout",
     "output_type": "stream",
     "text": [
      "1\n"
     ]
    }
   ],
   "source": [
    "a=19\n",
    "b=3\n",
    "print(a%b)"
   ]
  },
  {
   "cell_type": "code",
   "execution_count": 36,
   "id": "a60f28b6",
   "metadata": {},
   "outputs": [
    {
     "name": "stdout",
     "output_type": "stream",
     "text": [
      "0\n"
     ]
    }
   ],
   "source": [
    "a=12\n",
    "b=4\n",
    "print(a%b)"
   ]
  },
  {
   "cell_type": "markdown",
   "id": "ca6753cd",
   "metadata": {},
   "source": [
    "# exponent"
   ]
  },
  {
   "cell_type": "code",
   "execution_count": 37,
   "id": "1cf613f6",
   "metadata": {},
   "outputs": [
    {
     "name": "stdout",
     "output_type": "stream",
     "text": [
      "71162028433520217717099884851404495326786614148274137562533191244754226421072922193229393035406290047490322006127486170528820460414671897074184746917638236810663780872933871199771053029074871072046645088603300420278272474373361352870797685329285463690039885441075398107839063255747535400015566353549647882767414182717586010912021318113386679928289227315380064286145450539958069165193638416244911434618495833200180049949\n"
     ]
    }
   ],
   "source": [
    "a=41256789\n",
    "print(a**55)"
   ]
  },
  {
   "cell_type": "code",
   "execution_count": 38,
   "id": "ac96f9fe",
   "metadata": {},
   "outputs": [
    {
     "name": "stdout",
     "output_type": "stream",
     "text": [
      "2.990489165920469e+196\n"
     ]
    }
   ],
   "source": [
    "a=((789*78)+(78.256/89)+(856**67)+(145698-7526))\n",
    "print(a)"
   ]
  },
  {
   "cell_type": "code",
   "execution_count": 40,
   "id": "726056d3",
   "metadata": {},
   "outputs": [
    {
     "name": "stdout",
     "output_type": "stream",
     "text": [
      "False\n"
     ]
    }
   ],
   "source": [
    "a=True\n",
    "b=False\n",
    "print(a and b)"
   ]
  },
  {
   "cell_type": "code",
   "execution_count": 43,
   "id": "6e9bb01d",
   "metadata": {},
   "outputs": [
    {
     "name": "stdout",
     "output_type": "stream",
     "text": [
      "True\n"
     ]
    }
   ],
   "source": [
    "a=True\n",
    "b=True\n",
    "print(a or b)"
   ]
  },
  {
   "cell_type": "code",
   "execution_count": 46,
   "id": "0b861b35",
   "metadata": {},
   "outputs": [
    {
     "name": "stdout",
     "output_type": "stream",
     "text": [
      "True\n"
     ]
    }
   ],
   "source": [
    "a=False\n",
    "b=True\n",
    "print(not(a))"
   ]
  },
  {
   "cell_type": "code",
   "execution_count": 47,
   "id": "0fb7e271",
   "metadata": {},
   "outputs": [
    {
     "name": "stdout",
     "output_type": "stream",
     "text": [
      "33726797.183908045\n"
     ]
    }
   ],
   "source": [
    "a=((8922*2852)+(7821*222)+(25566*256)+(8281/87))\n",
    "print(a)"
   ]
  },
  {
   "cell_type": "markdown",
   "id": "48ce9795",
   "metadata": {},
   "source": [
    "# builtin fuction in python"
   ]
  },
  {
   "cell_type": "markdown",
   "id": "657a1333",
   "metadata": {},
   "source": [
    "# day-3"
   ]
  },
  {
   "cell_type": "markdown",
   "id": "2a81e32d",
   "metadata": {},
   "source": [
    "# abs()function"
   ]
  },
  {
   "cell_type": "code",
   "execution_count": 1,
   "id": "7395def4",
   "metadata": {},
   "outputs": [],
   "source": [
    "# absolute function"
   ]
  },
  {
   "cell_type": "code",
   "execution_count": 2,
   "id": "3998b9d1",
   "metadata": {},
   "outputs": [
    {
     "name": "stdout",
     "output_type": "stream",
     "text": [
      "7.25\n"
     ]
    }
   ],
   "source": [
    "x=abs(-7.25)\n",
    "print(x)"
   ]
  },
  {
   "cell_type": "code",
   "execution_count": 3,
   "id": "6f741406",
   "metadata": {},
   "outputs": [
    {
     "name": "stdout",
     "output_type": "stream",
     "text": [
      "8\n"
     ]
    }
   ],
   "source": [
    "y=abs(-8)\n",
    "print(y)"
   ]
  },
  {
   "cell_type": "code",
   "execution_count": 4,
   "id": "b75c9daa",
   "metadata": {},
   "outputs": [
    {
     "name": "stdout",
     "output_type": "stream",
     "text": [
      "5.830951894845301\n"
     ]
    }
   ],
   "source": [
    "z=abs(3+5j)\n",
    "print(z)"
   ]
  },
  {
   "cell_type": "markdown",
   "id": "23fe4aca",
   "metadata": {},
   "source": [
    "# binary function"
   ]
  },
  {
   "cell_type": "code",
   "execution_count": 5,
   "id": "a8f4bd9c",
   "metadata": {},
   "outputs": [
    {
     "name": "stdout",
     "output_type": "stream",
     "text": [
      "0b1101\n"
     ]
    }
   ],
   "source": [
    "x=bin(13)\n",
    "print(x)"
   ]
  },
  {
   "cell_type": "code",
   "execution_count": 6,
   "id": "80874bef",
   "metadata": {},
   "outputs": [
    {
     "name": "stdout",
     "output_type": "stream",
     "text": [
      "0b100100\n"
     ]
    }
   ],
   "source": [
    "y=bin(36)\n",
    "print(y)"
   ]
  },
  {
   "cell_type": "code",
   "execution_count": 7,
   "id": "eeeeddba",
   "metadata": {},
   "outputs": [
    {
     "name": "stdout",
     "output_type": "stream",
     "text": [
      "0b111000\n"
     ]
    }
   ],
   "source": [
    "z=bin(56)\n",
    "print(z)"
   ]
  },
  {
   "cell_type": "markdown",
   "id": "1dcdf758",
   "metadata": {},
   "source": [
    "# bytes function"
   ]
  },
  {
   "cell_type": "code",
   "execution_count": 8,
   "id": "99ba953a",
   "metadata": {},
   "outputs": [
    {
     "name": "stdout",
     "output_type": "stream",
     "text": [
      "b'\\x00\\x00\\x00\\x00'\n"
     ]
    }
   ],
   "source": [
    "x=bytes(4)\n",
    "print(x)"
   ]
  },
  {
   "cell_type": "code",
   "execution_count": 9,
   "id": "909c70a9",
   "metadata": {},
   "outputs": [
    {
     "name": "stdout",
     "output_type": "stream",
     "text": [
      "b'\\x00\\x00\\x00\\x00\\x00\\x00\\x00\\x00\\x00\\x00\\x00\\x00\\x00\\x00\\x00\\x00'\n"
     ]
    }
   ],
   "source": [
    "x=bytes(16)\n",
    "print(x)"
   ]
  },
  {
   "cell_type": "markdown",
   "id": "049a4017",
   "metadata": {},
   "source": [
    "# character function"
   ]
  },
  {
   "cell_type": "code",
   "execution_count": 12,
   "id": "21db59e1",
   "metadata": {},
   "outputs": [
    {
     "name": "stdout",
     "output_type": "stream",
     "text": [
      "a\n"
     ]
    }
   ],
   "source": [
    "x=chr(97)\n",
    "print(x)"
   ]
  },
  {
   "cell_type": "code",
   "execution_count": 13,
   "id": "efc12a98",
   "metadata": {},
   "outputs": [
    {
     "name": "stdout",
     "output_type": "stream",
     "text": [
      "b\n"
     ]
    }
   ],
   "source": [
    "x=chr(98)\n",
    "print(x)"
   ]
  },
  {
   "cell_type": "code",
   "execution_count": 14,
   "id": "b369004f",
   "metadata": {},
   "outputs": [
    {
     "name": "stdout",
     "output_type": "stream",
     "text": [
      "c\n"
     ]
    }
   ],
   "source": [
    "x=chr(99)\n",
    "print(x)"
   ]
  },
  {
   "cell_type": "code",
   "execution_count": 15,
   "id": "09e98eb1",
   "metadata": {},
   "outputs": [
    {
     "name": "stdout",
     "output_type": "stream",
     "text": [
      "^\n"
     ]
    }
   ],
   "source": [
    "x=chr(94)\n",
    "print(x)"
   ]
  },
  {
   "cell_type": "markdown",
   "id": "49d7ecea",
   "metadata": {},
   "source": [
    "# complex function"
   ]
  },
  {
   "cell_type": "code",
   "execution_count": 16,
   "id": "6cafa9d1",
   "metadata": {},
   "outputs": [
    {
     "name": "stdout",
     "output_type": "stream",
     "text": [
      "(3+5j)\n"
     ]
    }
   ],
   "source": [
    "x=complex(3,5)\n",
    "print(x)"
   ]
  },
  {
   "cell_type": "code",
   "execution_count": 17,
   "id": "a892d9b9",
   "metadata": {},
   "outputs": [
    {
     "name": "stdout",
     "output_type": "stream",
     "text": [
      "(2.5+3.96j)\n"
     ]
    }
   ],
   "source": [
    "y=complex(2.5,3.96)\n",
    "print(y)"
   ]
  },
  {
   "cell_type": "code",
   "execution_count": 18,
   "id": "63f0d5aa",
   "metadata": {},
   "outputs": [
    {
     "name": "stdout",
     "output_type": "stream",
     "text": [
      "(2+0j)\n"
     ]
    }
   ],
   "source": [
    "z=complex(2)\n",
    "print(z)"
   ]
  },
  {
   "cell_type": "markdown",
   "id": "c807e20b",
   "metadata": {},
   "source": [
    "# day-4"
   ]
  },
  {
   "cell_type": "markdown",
   "id": "848f7aee",
   "metadata": {},
   "source": [
    "# control flow statements"
   ]
  },
  {
   "cell_type": "markdown",
   "id": "21ca97d2",
   "metadata": {},
   "source": [
    "# if condition"
   ]
  },
  {
   "cell_type": "raw",
   "id": "6daf36e5",
   "metadata": {},
   "source": [
    "# write a program to caklculate the percentage of a student in the subjects maths science social science hindi"
   ]
  },
  {
   "cell_type": "code",
   "execution_count": 2,
   "id": "055317cd",
   "metadata": {},
   "outputs": [
    {
     "name": "stdout",
     "output_type": "stream",
     "text": [
      "enter the iname of the studenttahir\n",
      "enter the marks scored in english85\n",
      "enter the marks scored in hindi65\n",
      "enter the marks scored in maths95\n",
      "enter the marks scored in science86\n",
      "enter the marks scored in social73\n",
      "the percenytage scored by student 80.80000000000001\n"
     ]
    }
   ],
   "source": [
    "x=input(\"enter the iname of the student\")\n",
    "a=int(input(\"enter the marks scored in english\"))\n",
    "b=int(input(\"enter the marks scored in hindi\"))\n",
    "c=int(input(\"enter the marks scored in maths\"))\n",
    "d=int(input(\"enter the marks scored in science\"))\n",
    "e=int(input(\"enter the marks scored in social\"))\n",
    "\n",
    "n=((a+b+c+d+e)/500)*100\n",
    "print(\"the percenytage scored by student\",n)"
   ]
  },
  {
   "cell_type": "raw",
   "id": "e52cf345",
   "metadata": {},
   "source": [
    "# if percentage is above 90-a\n",
    "if percentage is above 75-b\n",
    "if percentage is above 65-c"
   ]
  },
  {
   "cell_type": "code",
   "execution_count": 4,
   "id": "6cd88cf4",
   "metadata": {},
   "outputs": [
    {
     "name": "stdout",
     "output_type": "stream",
     "text": [
      "enter the percentage scored by a student80\n",
      "B grade\n"
     ]
    }
   ],
   "source": [
    "a=int(input(\"enter the percentage scored by a student\"))\n",
    "\n",
    "if a>=90:\n",
    "    print(\"A gerade\")\n",
    "if a>=75 and a<90:\n",
    "    print(\"B grade\")\n",
    "if a>=65 and a<75:\n",
    "    print(\"C grade\")\n"
   ]
  },
  {
   "cell_type": "markdown",
   "id": "81c8b57e",
   "metadata": {},
   "source": [
    "# if else statements"
   ]
  },
  {
   "cell_type": "markdown",
   "id": "bd358d07",
   "metadata": {},
   "source": [
    "write a program to display hello if number entered by a user is a multiple of 5 else print py"
   ]
  },
  {
   "cell_type": "code",
   "execution_count": 4,
   "id": "eee6f108",
   "metadata": {},
   "outputs": [
    {
     "name": "stdout",
     "output_type": "stream",
     "text": [
      "enter the number:36\n",
      "bye\n"
     ]
    }
   ],
   "source": [
    "a= int(input(\"enter the number:\"))\n",
    "if a%5==0:\n",
    "    print(\"hello\")\n",
    "else:\n",
    "     print(\"bye\")"
   ]
  },
  {
   "cell_type": "code",
   "execution_count": null,
   "id": "f057fdd9",
   "metadata": {},
   "outputs": [],
   "source": []
  },
  {
   "cell_type": "code",
   "execution_count": 6,
   "id": "e45c16f7",
   "metadata": {},
   "outputs": [
    {
     "name": "stdout",
     "output_type": "stream",
     "text": [
      "enter the number-5\n",
      "negative number\n"
     ]
    }
   ],
   "source": [
    "a= int(input(\"enter the number\"))\n",
    "if a>0:\n",
    "    print(\"positive number\")\n",
    "else:\n",
    "    print(\"negative number\")"
   ]
  },
  {
   "cell_type": "code",
   "execution_count": null,
   "id": "49b93bb6",
   "metadata": {},
   "outputs": [],
   "source": []
  },
  {
   "cell_type": "code",
   "execution_count": null,
   "id": "14e15c7b",
   "metadata": {},
   "outputs": [],
   "source": [
    "a = input(\"enter the city name:\")\n",
    "if a ==\"delhi\":\n",
    "    print(\"red fort\")\n",
    "elif a ==\"agra\":\n",
    "    print(\"taj mahal\")\n",
    "elif a ==\"jaipur\":\n",
    "    print(\"jalmahal\")\n",
    "elif  a ==\"orissa\":\n",
    "    print(\"konak temple\")\n",
    "elif a ==\"hydrabad\":\n",
    "    print(\"char minar\")\n",
    "else:\n",
    "    print(\"record  not found:\")\n"
   ]
  },
  {
   "cell_type": "markdown",
   "id": "6aa4be07",
   "metadata": {},
   "source": [
    "# DAY -5"
   ]
  },
  {
   "cell_type": "markdown",
   "id": "032a8518",
   "metadata": {},
   "source": [
    "LOOPS"
   ]
  },
  {
   "cell_type": "markdown",
   "id": "bb0a246f",
   "metadata": {},
   "source": [
    "while loop"
   ]
  },
  {
   "cell_type": "markdown",
   "id": "476294ea",
   "metadata": {},
   "source": [
    "# program to display numbers 1 to 5 "
   ]
  },
  {
   "cell_type": "code",
   "execution_count": 1,
   "id": "51a74a9b",
   "metadata": {},
   "outputs": [
    {
     "name": "stdout",
     "output_type": "stream",
     "text": [
      "1\n",
      "2\n",
      "3\n",
      "4\n",
      "5\n"
     ]
    }
   ],
   "source": [
    "i=1;\n",
    "n=5;\n",
    "while i<=n:\n",
    "    print(i)\n",
    "    i=i+1;"
   ]
  },
  {
   "cell_type": "markdown",
   "id": "2dd0abc0",
   "metadata": {},
   "source": [
    "# enter the value from a user and make a multiplication table ti  10"
   ]
  },
  {
   "cell_type": "code",
   "execution_count": 2,
   "id": "6c2b4660",
   "metadata": {},
   "outputs": [
    {
     "name": "stdout",
     "output_type": "stream",
     "text": [
      "please enter the number:8\n",
      "8\n",
      "16\n",
      "24\n",
      "32\n",
      "40\n",
      "48\n",
      "56\n",
      "64\n",
      "72\n",
      "80\n",
      "this is the multiplication table\n"
     ]
    }
   ],
   "source": [
    "x=int(input(\"please enter the number:\"))\n",
    "i=1;\n",
    "while i<=10:\n",
    "    print(x*i)\n",
    "    i=i+1;\n",
    "print(\"this is the multiplication table\")"
   ]
  },
  {
   "cell_type": "markdown",
   "id": "1fce173d",
   "metadata": {},
   "source": [
    "# infinite loop"
   ]
  },
  {
   "cell_type": "code",
   "execution_count": null,
   "id": "dd6ec12b",
   "metadata": {},
   "outputs": [],
   "source": [
    "age=32;\n",
    "while age>18:\n",
    "    print(\"you can vote\")"
   ]
  },
  {
   "cell_type": "code",
   "execution_count": 3,
   "id": "263b11da",
   "metadata": {},
   "outputs": [
    {
     "name": "stdout",
     "output_type": "stream",
     "text": [
      "hello students\n",
      "hello students\n",
      "hello students\n",
      "hello students\n",
      "hello students\n",
      "hello students\n",
      "hello students\n",
      "hello students\n",
      "hello students\n",
      "hello students\n",
      "hello students\n",
      "hello students\n",
      "hello students\n",
      "hello students\n",
      "hello students\n",
      "hello students\n",
      "hello students\n",
      "hello students\n",
      "hello students\n",
      "hello students\n",
      "hello students\n",
      "hello students\n",
      "hello students\n",
      "hello students\n",
      "hello students\n"
     ]
    }
   ],
   "source": [
    "count=0;\n",
    "while count<25:\n",
    "    count=count+1\n",
    "    print(\"hello students\")"
   ]
  },
  {
   "cell_type": "markdown",
   "id": "7dd31e9a",
   "metadata": {},
   "source": [
    "# using else statements in the while loop"
   ]
  },
  {
   "cell_type": "code",
   "execution_count": 4,
   "id": "cb6651d4",
   "metadata": {},
   "outputs": [
    {
     "name": "stdout",
     "output_type": "stream",
     "text": [
      "hello students\n",
      "hello students\n",
      "hello students\n",
      "hello students\n",
      "hello students\n",
      "hello students\n",
      "hello students\n",
      "hello students\n",
      "hello students\n",
      "hello students\n",
      "hello students\n",
      "hello students\n",
      "hello students\n",
      "hello students\n",
      "hello students\n",
      "hello students\n",
      "hello students\n",
      "hello students\n",
      "hello students\n",
      "hello students\n",
      "hello students\n",
      "hello students\n",
      "hello students\n",
      "hello students\n",
      "hello students\n",
      "this is the else block\n"
     ]
    }
   ],
   "source": [
    "count=0;\n",
    "while count<25:\n",
    "    count=count+1\n",
    "    print(\"hello students\")\n",
    "else:\n",
    "    print(\"this is the else block\")"
   ]
  },
  {
   "cell_type": "markdown",
   "id": "d5b7d52f",
   "metadata": {},
   "source": [
    "# for loop"
   ]
  },
  {
   "cell_type": "code",
   "execution_count": 1,
   "id": "a11594ff",
   "metadata": {},
   "outputs": [
    {
     "name": "stdout",
     "output_type": "stream",
     "text": [
      "apple\n",
      "banana\n",
      "cherry\n"
     ]
    }
   ],
   "source": [
    "fruits=[\"apple\",\"banana\",\"cherry\"]\n",
    "for x in fruits:\n",
    "    print(x)"
   ]
  },
  {
   "cell_type": "markdown",
   "id": "5f855866",
   "metadata": {},
   "source": [
    "# looping through a string"
   ]
  },
  {
   "cell_type": "code",
   "execution_count": 2,
   "id": "808c1dd5",
   "metadata": {},
   "outputs": [
    {
     "name": "stdout",
     "output_type": "stream",
     "text": [
      "b\n",
      "a\n",
      "n\n",
      "a\n",
      "n\n",
      "a\n"
     ]
    }
   ],
   "source": [
    "for x in \"banana\":\n",
    "    print(x)\n"
   ]
  },
  {
   "cell_type": "markdown",
   "id": "48163b6b",
   "metadata": {},
   "source": [
    "# range\n",
    "for x in range(25):\n",
    "    print(x)"
   ]
  },
  {
   "cell_type": "code",
   "execution_count": 4,
   "id": "83d46f6b",
   "metadata": {},
   "outputs": [
    {
     "name": "stdout",
     "output_type": "stream",
     "text": [
      "3\n",
      "4\n",
      "5\n",
      "6\n",
      "7\n",
      "8\n",
      "9\n",
      "10\n",
      "11\n",
      "12\n",
      "13\n",
      "14\n",
      "15\n",
      "16\n",
      "17\n",
      "18\n",
      "19\n",
      "20\n",
      "21\n",
      "22\n",
      "23\n",
      "24\n"
     ]
    }
   ],
   "source": [
    "for x in range(3,25):\n",
    "    print(x)"
   ]
  },
  {
   "cell_type": "markdown",
   "id": "f26a5a87",
   "metadata": {},
   "source": [
    "# DAY-6"
   ]
  },
  {
   "cell_type": "markdown",
   "id": "03dfab2f",
   "metadata": {},
   "source": [
    "# USER DEFINED FUNCTION"
   ]
  },
  {
   "cell_type": "markdown",
   "id": "f8d2d5b1",
   "metadata": {},
   "source": [
    "creating a user defined function"
   ]
  },
  {
   "cell_type": "code",
   "execution_count": 5,
   "id": "4728dc86",
   "metadata": {},
   "outputs": [],
   "source": [
    "def my_function():\n",
    "    print(\"hello class\")\n",
    "    print(\"we are learning python\")\n",
    "   "
   ]
  },
  {
   "cell_type": "markdown",
   "id": "067adb08",
   "metadata": {},
   "source": [
    "calling a function"
   ]
  },
  {
   "cell_type": "code",
   "execution_count": 14,
   "id": "ef7eb73f",
   "metadata": {},
   "outputs": [
    {
     "name": "stdout",
     "output_type": "stream",
     "text": [
      "hello class\n"
     ]
    }
   ],
   "source": [
    "my_function()"
   ]
  },
  {
   "cell_type": "code",
   "execution_count": 15,
   "id": "a7d127a0",
   "metadata": {},
   "outputs": [
    {
     "name": "stdout",
     "output_type": "stream",
     "text": [
      "hello class\n"
     ]
    }
   ],
   "source": [
    "my_function()"
   ]
  },
  {
   "cell_type": "markdown",
   "id": "97bd76b8",
   "metadata": {},
   "source": [
    "# making the result of a student"
   ]
  },
  {
   "cell_type": "code",
   "execution_count": 16,
   "id": "248732b3",
   "metadata": {},
   "outputs": [],
   "source": [
    "def contact():\n",
    "    print(\"contact details of the school\")\n",
    "    print(\"delhi public school\")\n",
    "    print(\"Banaglore karnataka\")\n",
    "    print(\"7894561230\")\n",
    "    print(\"dps.contact@gmail.com\")"
   ]
  },
  {
   "cell_type": "code",
   "execution_count": null,
   "id": "acb2bbee",
   "metadata": {},
   "outputs": [],
   "source": [
    "for i in range(4):\n",
    "    a=input(\"name of the student\")\n",
    "    b=int(input(\"enter the marks of maths\"))\n",
    "    c=int(input(\"enter the marks of social science\"))\n",
    "    d= int (input(\"enter the marks of social\"))\n",
    "    print()\n",
    "    contact()"
   ]
  },
  {
   "cell_type": "markdown",
   "id": "0704c2bb",
   "metadata": {},
   "source": [
    "# ARGUMENTS"
   ]
  },
  {
   "cell_type": "code",
   "execution_count": 3,
   "id": "af280dfa",
   "metadata": {},
   "outputs": [],
   "source": [
    "def my_function(fname):\n",
    "    print(fname + \"sharma\")"
   ]
  },
  {
   "cell_type": "code",
   "execution_count": 4,
   "id": "3926f778",
   "metadata": {},
   "outputs": [
    {
     "name": "stdout",
     "output_type": "stream",
     "text": [
      "poojasharma\n"
     ]
    }
   ],
   "source": [
    "my_function(\"pooja\")"
   ]
  },
  {
   "cell_type": "code",
   "execution_count": 5,
   "id": "a7d245a2",
   "metadata": {},
   "outputs": [],
   "source": [
    "def function(fname):\n",
    "    print(fname + \"sharma\")"
   ]
  },
  {
   "cell_type": "code",
   "execution_count": 6,
   "id": "a14dc9db",
   "metadata": {},
   "outputs": [
    {
     "name": "stdout",
     "output_type": "stream",
     "text": [
      "poojasharma\n"
     ]
    }
   ],
   "source": [
    "function(\"pooja\")"
   ]
  },
  {
   "cell_type": "code",
   "execution_count": 7,
   "id": "d030d53a",
   "metadata": {},
   "outputs": [],
   "source": [
    "def my_function(fname, lastname):\n",
    "    print(fname + \" \"+lastname)"
   ]
  },
  {
   "cell_type": "code",
   "execution_count": 8,
   "id": "fd95bb46",
   "metadata": {},
   "outputs": [
    {
     "name": "stdout",
     "output_type": "stream",
     "text": [
      "tahir khan\n"
     ]
    }
   ],
   "source": [
    "my_function(\"tahir\",\"khan\")"
   ]
  },
  {
   "cell_type": "markdown",
   "id": "d3fcf996",
   "metadata": {},
   "source": [
    "# electicity bill"
   ]
  },
  {
   "cell_type": "markdown",
   "id": "0a315c1a",
   "metadata": {},
   "source": [
    "to write a program to calculate electricity bill"
   ]
  },
  {
   "cell_type": "markdown",
   "id": "5a08b28e",
   "metadata": {},
   "source": [
    "if 500 unit used - pay 5 for each unit\n",
    "if 700 unit used - pay 10 for each unit\n",
    "if 1000 unit used - pay 15 for each unit\n",
    "if more thean 1000 unit used - pay 20 for each unit"
   ]
  },
  {
   "cell_type": "code",
   "execution_count": 1,
   "id": "80f095e1",
   "metadata": {},
   "outputs": [],
   "source": [
    "def electricity_bill(n):\n",
    "    if n<=500:\n",
    "        print(\"your bill is Rs.\",n*5)\n",
    "    elif n>500 and n<=700:\n",
    "        print(\"your bill is Rs.\",n*10)\n",
    "    elif n>700 and n<=1000:\n",
    "        print(\"your bill is Rs.\",n*15)\n",
    "    elif n>1000 :\n",
    "        print(\"your bill is Rs.\",n*20)"
   ]
  },
  {
   "cell_type": "code",
   "execution_count": 7,
   "id": "fb02101e",
   "metadata": {},
   "outputs": [],
   "source": [
    "def instructions():\n",
    "    print(\"last date of paying the bill is 20 april.\")\n",
    "    print(\"after 20 april you need to pay Rs.1000 as a fine\")\n",
    "    print(\"electricity office, new Delhi\")"
   ]
  },
  {
   "cell_type": "code",
   "execution_count": null,
   "id": "5cefd217",
   "metadata": {},
   "outputs": [
    {
     "name": "stdout",
     "output_type": "stream",
     "text": [
      "enter the name of the customer:tahir\n",
      "enter the unit of electricity you have used456\n",
      "your bill is Rs. 2280\n",
      " \n",
      "last date of paying the bill is 20 april.\n",
      "after 20 april you need to pay Rs.1000 as a fine\n",
      "electricity office, new Delhi\n"
     ]
    }
   ],
   "source": [
    "for i in range(3):\n",
    "    a=input(\"enter the name of the customer:\")\n",
    "    n=int(input(\"enter the unit of electricity you have used\"))\n",
    "    electricity_bill(n)\n",
    "    print(\" \")\n",
    "    instructions()"
   ]
  },
  {
   "cell_type": "code",
   "execution_count": null,
   "id": "b87638e8",
   "metadata": {},
   "outputs": [],
   "source": [
    "for i in range(3):\n",
    "    a=input(\"enter the name of the customer:\")\n",
    "    n=int(input(\"enter the unit of electricity you have used\"))\n",
    "    electricity_bill(n)\n",
    "    print()\n",
    "    instruction()"
   ]
  },
  {
   "cell_type": "code",
   "execution_count": null,
   "id": "f9cb700f",
   "metadata": {},
   "outputs": [],
   "source": []
  },
  {
   "cell_type": "markdown",
   "id": "69a56b4b",
   "metadata": {},
   "source": [
    "# DAY-7"
   ]
  },
  {
   "cell_type": "markdown",
   "id": "abd995fa",
   "metadata": {},
   "source": [
    "# CONCEPT OF STRINGS"
   ]
  },
  {
   "cell_type": "markdown",
   "id": "df251cb6",
   "metadata": {},
   "source": [
    "# creating strings in python"
   ]
  },
  {
   "cell_type": "code",
   "execution_count": 1,
   "id": "6abd75a7",
   "metadata": {},
   "outputs": [
    {
     "name": "stdout",
     "output_type": "stream",
     "text": [
      "hello\n"
     ]
    }
   ],
   "source": [
    "a=\"hello\"\n",
    "print(a)"
   ]
  },
  {
   "cell_type": "code",
   "execution_count": 2,
   "id": "24faa045",
   "metadata": {},
   "outputs": [
    {
     "name": "stdout",
     "output_type": "stream",
     "text": [
      "hello\n"
     ]
    }
   ],
   "source": [
    "a='hello'\n",
    "print(a)"
   ]
  },
  {
   "cell_type": "markdown",
   "id": "b77a1c97",
   "metadata": {},
   "source": [
    "# multiline strings"
   ]
  },
  {
   "cell_type": "code",
   "execution_count": 3,
   "id": "83bb4936",
   "metadata": {},
   "outputs": [
    {
     "ename": "SyntaxError",
     "evalue": "EOL while scanning string literal (4273346733.py, line 1)",
     "output_type": "error",
     "traceback": [
      "\u001b[1;36m  File \u001b[1;32m\"C:\\Users\\tohir\\AppData\\Local\\Temp\\ipykernel_11020\\4273346733.py\"\u001b[1;36m, line \u001b[1;32m1\u001b[0m\n\u001b[1;33m    b=\"\"\"By 55,000 years ago, the first modern humans, or Homo sapiens, had arrived on the Indian subcontinent from Africa, where they had earlier evolved.[31][32][33] The earliest known modern human remains in South Asia date to about 30,000 years ago.[31] After 6500 BCE, evidence for domestication of food crops and animals, construction of permanent structures, and storage of agricultural surplus appeared in Mehrgarh and other sites in Balochistan, Pakistan.[87] These gradually developed into the Indus Valley Civilisation,[88][87] the first urban culture in South Asia,[89] which flourished during 2500–1900 BCE in Pakistan and western India.[90] Centred around cities such as Mohenjo-daro, Harappa, Dholavira, and Kalibangan, and relying on varied forms of subsistence, the civilisation engaged robustly in crafts production and wide-ranging trade.[89]\"\"\"\"\u001b[0m\n\u001b[1;37m                                                                                                                                                                                                                                                                                                                                                                                                                                                                                                                                                                                                                                                                                                                                                                                                                                                                                                 ^\u001b[0m\n\u001b[1;31mSyntaxError\u001b[0m\u001b[1;31m:\u001b[0m EOL while scanning string literal\n"
     ]
    }
   ],
   "source": [
    "b=\"\"\"By 55,000 years ago, the first modern humans, or Homo sapiens, had arrived on the Indian subcontinent from Africa, where they had earlier evolved.[31][32][33] The earliest known modern human remains in South Asia date to about 30,000 years ago.[31] After 6500 BCE, evidence for domestication of food crops and animals, construction of permanent structures, and storage of agricultural surplus appeared in Mehrgarh and other sites in Balochistan, Pakistan.[87] These gradually developed into the Indus Valley Civilisation,[88][87] the first urban culture in South Asia,[89] which flourished during 2500–1900 BCE in Pakistan and western India.[90] Centred around cities such as Mohenjo-daro, Harappa, Dholavira, and Kalibangan, and relying on varied forms of subsistence, the civilisation engaged robustly in crafts production and wide-ranging trade.[89]\"\"\"\"\n",
    "print(b)"
   ]
  },
  {
   "cell_type": "code",
   "execution_count": 5,
   "id": "2e470be1",
   "metadata": {},
   "outputs": [
    {
     "name": "stdout",
     "output_type": "stream",
     "text": [
      "   By 55,000 years ago, the first modern humans,\n",
      "or Homo sapiens, had arrived on the Indian subcontinent from Africa,\n",
      "where they had earlier evolved.\n",
      "[31][32][33] The earliest known modern human remains in South Asia date to about 30,000 years ago.\n",
      "[31] After 6500 BCE, evidence for domestication of food crops and animals,\n",
      "construction of permanent structures,\n",
      "and storage of agricultural surplus appeared in Mehrgarh and other sites in Balochistan,\n",
      "Pakistan.[87] These gradually developed into the Indus Valley Civilisation,\n",
      "[88][87] the first urban culture in South Asia,[89]\n",
      "which flourished during 2500–1900 BCE in Pakistan and western India.\n",
      "[90] Centred around cities such as Mohenjo-daro, Harappa, Dholavira, and Kalibangan, \n",
      "and relying on varied forms of subsistence, the civilisation engaged robustly in crafts production and wide-ranging trade.[89] \n"
     ]
    }
   ],
   "source": [
    "b=\"\"\"   By 55,000 years ago, the first modern humans,\n",
    "or Homo sapiens, had arrived on the Indian subcontinent from Africa,\n",
    "where they had earlier evolved.\n",
    "[31][32][33] The earliest known modern human remains in South Asia date to about 30,000 years ago.\n",
    "[31] After 6500 BCE, evidence for domestication of food crops and animals,\n",
    "construction of permanent structures,\n",
    "and storage of agricultural surplus appeared in Mehrgarh and other sites in Balochistan,\n",
    "Pakistan.[87] These gradually developed into the Indus Valley Civilisation,\n",
    "[88][87] the first urban culture in South Asia,[89]\n",
    "which flourished during 2500–1900 BCE in Pakistan and western India.\n",
    "[90] Centred around cities such as Mohenjo-daro, Harappa, Dholavira, and Kalibangan, \n",
    "and relying on varied forms of subsistence, the civilisation engaged robustly in crafts production and wide-ranging trade.[89] \"\"\"\n",
    "print(b)"
   ]
  },
  {
   "cell_type": "markdown",
   "id": "a5620952",
   "metadata": {},
   "source": [
    "# indexing"
   ]
  },
  {
   "cell_type": "code",
   "execution_count": 6,
   "id": "530957f2",
   "metadata": {},
   "outputs": [
    {
     "name": "stdout",
     "output_type": "stream",
     "text": [
      "n\n"
     ]
    }
   ],
   "source": [
    "a=\"hello students\"\n",
    "print(a[11])"
   ]
  },
  {
   "cell_type": "code",
   "execution_count": 7,
   "id": "0edf6c55",
   "metadata": {},
   "outputs": [
    {
     "name": "stdout",
     "output_type": "stream",
     "text": [
      "t\n"
     ]
    }
   ],
   "source": [
    "print(a[-2])"
   ]
  },
  {
   "cell_type": "markdown",
   "id": "3906d659",
   "metadata": {},
   "source": [
    "# SLICING OF STRINGS"
   ]
  },
  {
   "cell_type": "code",
   "execution_count": 9,
   "id": "8e7f1782",
   "metadata": {},
   "outputs": [
    {
     "name": "stdout",
     "output_type": "stream",
     "text": [
      "hello\n"
     ]
    }
   ],
   "source": [
    "s=\"hello students how are you\"\n",
    "print(s[0:5])"
   ]
  },
  {
   "cell_type": "code",
   "execution_count": 10,
   "id": "6e055543",
   "metadata": {},
   "outputs": [
    {
     "name": "stdout",
     "output_type": "stream",
     "text": [
      "students how\n"
     ]
    }
   ],
   "source": [
    "print(s[6:18])"
   ]
  },
  {
   "cell_type": "code",
   "execution_count": 11,
   "id": "086405f3",
   "metadata": {},
   "outputs": [
    {
     "name": "stdout",
     "output_type": "stream",
     "text": [
      "hlosuet o \n"
     ]
    }
   ],
   "source": [
    "s=\"hello students how are you\"\n",
    "print(s[0:20:2])"
   ]
  },
  {
   "cell_type": "markdown",
   "id": "f1ebc33a",
   "metadata": {},
   "source": [
    "# reverse string"
   ]
  },
  {
   "cell_type": "code",
   "execution_count": 1,
   "id": "33ecca6b",
   "metadata": {},
   "outputs": [
    {
     "name": "stdout",
     "output_type": "stream",
     "text": [
      "uoy era woh stneduts olleh\n"
     ]
    },
    {
     "ename": "AttributeError",
     "evalue": "'str' object has no attribute 'reverse'",
     "output_type": "error",
     "traceback": [
      "\u001b[1;31m---------------------------------------------------------------------------\u001b[0m",
      "\u001b[1;31mAttributeError\u001b[0m                            Traceback (most recent call last)",
      "\u001b[1;32m~\\AppData\\Local\\Temp\\ipykernel_13880\\1994760306.py\u001b[0m in \u001b[0;36m<module>\u001b[1;34m\u001b[0m\n\u001b[0;32m      1\u001b[0m \u001b[0ms\u001b[0m\u001b[1;33m=\u001b[0m\u001b[1;34m\"hello students how are you\"\u001b[0m\u001b[1;33m\u001b[0m\u001b[1;33m\u001b[0m\u001b[0m\n\u001b[0;32m      2\u001b[0m \u001b[0mprint\u001b[0m\u001b[1;33m(\u001b[0m\u001b[0ms\u001b[0m\u001b[1;33m[\u001b[0m\u001b[1;33m:\u001b[0m\u001b[1;33m:\u001b[0m\u001b[1;33m-\u001b[0m\u001b[1;36m1\u001b[0m\u001b[1;33m]\u001b[0m\u001b[1;33m)\u001b[0m\u001b[1;33m\u001b[0m\u001b[1;33m\u001b[0m\u001b[0m\n\u001b[1;32m----> 3\u001b[1;33m \u001b[0ms\u001b[0m\u001b[1;33m.\u001b[0m\u001b[0mreverse\u001b[0m\u001b[1;33m(\u001b[0m\u001b[1;33m)\u001b[0m\u001b[1;33m\u001b[0m\u001b[1;33m\u001b[0m\u001b[0m\n\u001b[0m\u001b[0;32m      4\u001b[0m \u001b[0mprint\u001b[0m\u001b[1;33m(\u001b[0m\u001b[0ms\u001b[0m\u001b[1;33m)\u001b[0m\u001b[1;33m\u001b[0m\u001b[1;33m\u001b[0m\u001b[0m\n",
      "\u001b[1;31mAttributeError\u001b[0m: 'str' object has no attribute 'reverse'"
     ]
    }
   ],
   "source": [
    "s=\"hello students how are you\"\n",
    "print(s[::-1])\n",
    "s.reverse()\n",
    "print(s)"
   ]
  },
  {
   "cell_type": "markdown",
   "id": "e555044c",
   "metadata": {},
   "source": [
    "# finding the length of a string"
   ]
  },
  {
   "cell_type": "code",
   "execution_count": 14,
   "id": "506aae62",
   "metadata": {},
   "outputs": [
    {
     "name": "stdout",
     "output_type": "stream",
     "text": [
      "861\n"
     ]
    }
   ],
   "source": [
    "print(len(b))"
   ]
  },
  {
   "cell_type": "code",
   "execution_count": 15,
   "id": "c709654e",
   "metadata": {},
   "outputs": [
    {
     "name": "stdout",
     "output_type": "stream",
     "text": [
      "30\n"
     ]
    }
   ],
   "source": [
    "a=\"this is our day 7 python class\"\n",
    "print(len(a))"
   ]
  },
  {
   "cell_type": "markdown",
   "id": "c537c4da",
   "metadata": {},
   "source": [
    "# upper method"
   ]
  },
  {
   "cell_type": "code",
   "execution_count": 16,
   "id": "8307e274",
   "metadata": {},
   "outputs": [
    {
     "name": "stdout",
     "output_type": "stream",
     "text": [
      "HELLO HOW ARE YOU\n"
     ]
    }
   ],
   "source": [
    "a=\"hello how are you\"\n",
    "print(a.upper())"
   ]
  },
  {
   "cell_type": "markdown",
   "id": "459f238f",
   "metadata": {},
   "source": [
    "# lower method"
   ]
  },
  {
   "cell_type": "code",
   "execution_count": 17,
   "id": "0568a2b0",
   "metadata": {},
   "outputs": [
    {
     "name": "stdout",
     "output_type": "stream",
     "text": [
      "hello students\n"
     ]
    }
   ],
   "source": [
    "a=\"HELLO STUDENTS\"\n",
    "print(a.lower())"
   ]
  },
  {
   "cell_type": "markdown",
   "id": "93b38ce8",
   "metadata": {},
   "source": [
    "# replace function"
   ]
  },
  {
   "cell_type": "code",
   "execution_count": 19,
   "id": "b7f430c3",
   "metadata": {},
   "outputs": [
    {
     "name": "stdout",
     "output_type": "stream",
     "text": [
      "bye how are you\n"
     ]
    }
   ],
   "source": [
    "a=\"hello how are you\"\n",
    "print(a.replace(\"hello\",\"bye\"))"
   ]
  },
  {
   "cell_type": "code",
   "execution_count": 20,
   "id": "1c369cdc",
   "metadata": {},
   "outputs": [
    {
     "name": "stdout",
     "output_type": "stream",
     "text": [
      "hello students\n"
     ]
    }
   ],
   "source": [
    "b=\"hello world\"\n",
    "print(b.replace(\"world\",\"students\"))"
   ]
  },
  {
   "cell_type": "markdown",
   "id": "6217a2c2",
   "metadata": {},
   "source": [
    "# find method"
   ]
  },
  {
   "cell_type": "code",
   "execution_count": 1,
   "id": "5dbfec47",
   "metadata": {},
   "outputs": [
    {
     "name": "stdout",
     "output_type": "stream",
     "text": [
      "10\n"
     ]
    }
   ],
   "source": [
    "a=\"python is great\"\n",
    "b=a.find(\"g\")\n",
    "print(b)"
   ]
  },
  {
   "cell_type": "code",
   "execution_count": 2,
   "id": "1721b45f",
   "metadata": {},
   "outputs": [
    {
     "name": "stdout",
     "output_type": "stream",
     "text": [
      "0\n"
     ]
    }
   ],
   "source": [
    "a=\"python is great\"\n",
    "b=a.find(\"p\")\n",
    "print(b)"
   ]
  },
  {
   "cell_type": "code",
   "execution_count": null,
   "id": "53cf7472",
   "metadata": {},
   "outputs": [],
   "source": []
  }
 ],
 "metadata": {
  "kernelspec": {
   "display_name": "Python 3 (ipykernel)",
   "language": "python",
   "name": "python3"
  },
  "language_info": {
   "codemirror_mode": {
    "name": "ipython",
    "version": 3
   },
   "file_extension": ".py",
   "mimetype": "text/x-python",
   "name": "python",
   "nbconvert_exporter": "python",
   "pygments_lexer": "ipython3",
   "version": "3.9.13"
  }
 },
 "nbformat": 4,
 "nbformat_minor": 5
}
